{
 "cells": [
  {
   "cell_type": "markdown",
   "id": "97a72d03-67f5-47a2-9faf-9a4851a13838",
   "metadata": {},
   "source": [
    "Q1. List any five functions of the pandas library with execution."
   ]
  },
  {
   "cell_type": "markdown",
   "id": "a657dc2b-3437-4ea4-b5af-6280631c4654",
   "metadata": {},
   "source": [
    "1.dtypes,2type(pd.dtypes),3.pd.DataFrame,4.read(),5.read_tail()\n"
   ]
  },
  {
   "cell_type": "markdown",
   "id": "6960d4ed-0f7c-4de6-bccc-fc96b0da6ef3",
   "metadata": {},
   "source": [
    "Q2. Given a Pandas DataFrame df with columns 'A', 'B', and 'C', write a Python function to re-index the\n",
    "DataFrame with a new index that starts from 1 and increments by 2 for each row."
   ]
  },
  {
   "cell_type": "code",
   "execution_count": 2,
   "id": "5695235f-bb3b-422c-a121-f39558829477",
   "metadata": {},
   "outputs": [],
   "source": [
    "import pandas as pd\n",
    "data={\"column_A\":[\"rahul\",\"mina\",\"anuj\"],\n",
    "      \"column_B\":[\"rohini\",\"mohan\",\"ritik\"],\n",
    "      \"column_C\":[\"player\",\"singer\",\"bussness_man\"]}"
   ]
  },
  {
   "cell_type": "code",
   "execution_count": 3,
   "id": "f8491c95-af98-45df-8b18-061ba65d4255",
   "metadata": {},
   "outputs": [
    {
     "data": {
      "text/plain": [
       "{'column_A': ['rahul', 'mina', 'anuj'],\n",
       " 'column_B': ['rohini', 'mohan', 'ritik'],\n",
       " 'column_C': ['player', 'singer', 'bussness_man']}"
      ]
     },
     "execution_count": 3,
     "metadata": {},
     "output_type": "execute_result"
    }
   ],
   "source": [
    "data"
   ]
  },
  {
   "cell_type": "code",
   "execution_count": 4,
   "id": "4d3ceb23-b323-44eb-a6bc-7e60418a2f69",
   "metadata": {},
   "outputs": [],
   "source": [
    "df=pd.DataFrame(data)"
   ]
  },
  {
   "cell_type": "code",
   "execution_count": 5,
   "id": "bc74f333-e5a8-4e25-a0bb-c22b25e5e25e",
   "metadata": {},
   "outputs": [
    {
     "data": {
      "text/plain": [
       "column_A    object\n",
       "column_B    object\n",
       "column_C    object\n",
       "dtype: object"
      ]
     },
     "execution_count": 5,
     "metadata": {},
     "output_type": "execute_result"
    }
   ],
   "source": [
    "df.dtypes"
   ]
  },
  {
   "cell_type": "code",
   "execution_count": 6,
   "id": "98fb5250-f5f0-4c31-851c-16d5c6d4a251",
   "metadata": {},
   "outputs": [
    {
     "data": {
      "text/plain": [
       "pandas.core.series.Series"
      ]
     },
     "execution_count": 6,
     "metadata": {},
     "output_type": "execute_result"
    }
   ],
   "source": [
    "type(df.dtypes)"
   ]
  },
  {
   "cell_type": "code",
   "execution_count": 7,
   "id": "e2b66493-1547-4479-91dc-5b98fdb0a86c",
   "metadata": {},
   "outputs": [],
   "source": [
    "df['new_column']=1,3,5"
   ]
  },
  {
   "cell_type": "code",
   "execution_count": 8,
   "id": "bc570caf-0565-4853-8217-d6fc7ac2a2b3",
   "metadata": {},
   "outputs": [
    {
     "data": {
      "text/html": [
       "<div>\n",
       "<style scoped>\n",
       "    .dataframe tbody tr th:only-of-type {\n",
       "        vertical-align: middle;\n",
       "    }\n",
       "\n",
       "    .dataframe tbody tr th {\n",
       "        vertical-align: top;\n",
       "    }\n",
       "\n",
       "    .dataframe thead th {\n",
       "        text-align: right;\n",
       "    }\n",
       "</style>\n",
       "<table border=\"1\" class=\"dataframe\">\n",
       "  <thead>\n",
       "    <tr style=\"text-align: right;\">\n",
       "      <th></th>\n",
       "      <th>column_A</th>\n",
       "      <th>column_B</th>\n",
       "      <th>column_C</th>\n",
       "      <th>new_column</th>\n",
       "    </tr>\n",
       "  </thead>\n",
       "  <tbody>\n",
       "    <tr>\n",
       "      <th>0</th>\n",
       "      <td>rahul</td>\n",
       "      <td>rohini</td>\n",
       "      <td>player</td>\n",
       "      <td>1</td>\n",
       "    </tr>\n",
       "    <tr>\n",
       "      <th>1</th>\n",
       "      <td>mina</td>\n",
       "      <td>mohan</td>\n",
       "      <td>singer</td>\n",
       "      <td>3</td>\n",
       "    </tr>\n",
       "    <tr>\n",
       "      <th>2</th>\n",
       "      <td>anuj</td>\n",
       "      <td>ritik</td>\n",
       "      <td>bussness_man</td>\n",
       "      <td>5</td>\n",
       "    </tr>\n",
       "  </tbody>\n",
       "</table>\n",
       "</div>"
      ],
      "text/plain": [
       "  column_A column_B      column_C  new_column\n",
       "0    rahul   rohini        player           1\n",
       "1     mina    mohan        singer           3\n",
       "2     anuj    ritik  bussness_man           5"
      ]
     },
     "execution_count": 8,
     "metadata": {},
     "output_type": "execute_result"
    }
   ],
   "source": [
    "df.head()"
   ]
  },
  {
   "cell_type": "code",
   "execution_count": 9,
   "id": "e7abdd18-41e9-4653-a234-897247b4d49e",
   "metadata": {},
   "outputs": [
    {
     "data": {
      "text/html": [
       "<div>\n",
       "<style scoped>\n",
       "    .dataframe tbody tr th:only-of-type {\n",
       "        vertical-align: middle;\n",
       "    }\n",
       "\n",
       "    .dataframe tbody tr th {\n",
       "        vertical-align: top;\n",
       "    }\n",
       "\n",
       "    .dataframe thead th {\n",
       "        text-align: right;\n",
       "    }\n",
       "</style>\n",
       "<table border=\"1\" class=\"dataframe\">\n",
       "  <thead>\n",
       "    <tr style=\"text-align: right;\">\n",
       "      <th></th>\n",
       "      <th>column_A</th>\n",
       "      <th>column_B</th>\n",
       "      <th>column_C</th>\n",
       "    </tr>\n",
       "    <tr>\n",
       "      <th>new_column</th>\n",
       "      <th></th>\n",
       "      <th></th>\n",
       "      <th></th>\n",
       "    </tr>\n",
       "  </thead>\n",
       "  <tbody>\n",
       "    <tr>\n",
       "      <th>1</th>\n",
       "      <td>rahul</td>\n",
       "      <td>rohini</td>\n",
       "      <td>player</td>\n",
       "    </tr>\n",
       "    <tr>\n",
       "      <th>3</th>\n",
       "      <td>mina</td>\n",
       "      <td>mohan</td>\n",
       "      <td>singer</td>\n",
       "    </tr>\n",
       "    <tr>\n",
       "      <th>5</th>\n",
       "      <td>anuj</td>\n",
       "      <td>ritik</td>\n",
       "      <td>bussness_man</td>\n",
       "    </tr>\n",
       "  </tbody>\n",
       "</table>\n",
       "</div>"
      ],
      "text/plain": [
       "           column_A column_B      column_C\n",
       "new_column                                \n",
       "1             rahul   rohini        player\n",
       "3              mina    mohan        singer\n",
       "5              anuj    ritik  bussness_man"
      ]
     },
     "execution_count": 9,
     "metadata": {},
     "output_type": "execute_result"
    }
   ],
   "source": [
    "df.set_index('new_column')  #new_column taken as re-index column"
   ]
  },
  {
   "cell_type": "markdown",
   "id": "ed3a5148-101b-4298-ab24-5b2b3390a082",
   "metadata": {},
   "source": [
    "Q3. You have a Pandas DataFrame df with a column named 'Values'. Write a Python function that\n",
    "iterates over the DataFrame and calculates the sum of the first three values in the 'Values' column. The\n",
    "function should print the sum to the console."
   ]
  },
  {
   "cell_type": "code",
   "execution_count": 10,
   "id": "931985a8-b8f9-4899-9a44-8419aa4abd88",
   "metadata": {},
   "outputs": [],
   "source": [
    "result={\"maths\":[\"max\",\"rey\",\"monty\"],\n",
    "        \"value\":[85,87,90]}"
   ]
  },
  {
   "cell_type": "code",
   "execution_count": 11,
   "id": "b794b741-cb0d-4dd2-b6e3-b02964553804",
   "metadata": {},
   "outputs": [
    {
     "data": {
      "text/plain": [
       "{'maths': ['max', 'rey', 'monty'], 'value': [85, 87, 90]}"
      ]
     },
     "execution_count": 11,
     "metadata": {},
     "output_type": "execute_result"
    }
   ],
   "source": [
    "result"
   ]
  },
  {
   "cell_type": "code",
   "execution_count": 12,
   "id": "d9c3f883-9907-414e-92b0-1ab473f08832",
   "metadata": {},
   "outputs": [],
   "source": [
    "tm=pd.DataFrame(result)"
   ]
  },
  {
   "cell_type": "code",
   "execution_count": 13,
   "id": "8b52e9e5-169f-4bd7-8ddb-7a59c07877e7",
   "metadata": {},
   "outputs": [],
   "source": [
    "tm['total_marks']=0"
   ]
  },
  {
   "cell_type": "code",
   "execution_count": 14,
   "id": "c46b5b94-3b17-4312-be98-7f08e1966de0",
   "metadata": {},
   "outputs": [
    {
     "data": {
      "text/html": [
       "<div>\n",
       "<style scoped>\n",
       "    .dataframe tbody tr th:only-of-type {\n",
       "        vertical-align: middle;\n",
       "    }\n",
       "\n",
       "    .dataframe tbody tr th {\n",
       "        vertical-align: top;\n",
       "    }\n",
       "\n",
       "    .dataframe thead th {\n",
       "        text-align: right;\n",
       "    }\n",
       "</style>\n",
       "<table border=\"1\" class=\"dataframe\">\n",
       "  <thead>\n",
       "    <tr style=\"text-align: right;\">\n",
       "      <th></th>\n",
       "      <th>maths</th>\n",
       "      <th>value</th>\n",
       "      <th>total_marks</th>\n",
       "    </tr>\n",
       "  </thead>\n",
       "  <tbody>\n",
       "    <tr>\n",
       "      <th>0</th>\n",
       "      <td>max</td>\n",
       "      <td>85</td>\n",
       "      <td>0</td>\n",
       "    </tr>\n",
       "    <tr>\n",
       "      <th>1</th>\n",
       "      <td>rey</td>\n",
       "      <td>87</td>\n",
       "      <td>0</td>\n",
       "    </tr>\n",
       "    <tr>\n",
       "      <th>2</th>\n",
       "      <td>monty</td>\n",
       "      <td>90</td>\n",
       "      <td>0</td>\n",
       "    </tr>\n",
       "  </tbody>\n",
       "</table>\n",
       "</div>"
      ],
      "text/plain": [
       "   maths  value  total_marks\n",
       "0    max     85            0\n",
       "1    rey     87            0\n",
       "2  monty     90            0"
      ]
     },
     "execution_count": 14,
     "metadata": {},
     "output_type": "execute_result"
    }
   ],
   "source": [
    "tm.head()"
   ]
  },
  {
   "cell_type": "code",
   "execution_count": 15,
   "id": "b09bc684-cb22-42e0-ad87-6efd18a427d2",
   "metadata": {},
   "outputs": [],
   "source": [
    "tm['total_marks']=tm['value']"
   ]
  },
  {
   "cell_type": "code",
   "execution_count": 16,
   "id": "5f533c65-bf0f-492f-bded-9885b9918a7f",
   "metadata": {},
   "outputs": [
    {
     "data": {
      "text/html": [
       "<div>\n",
       "<style scoped>\n",
       "    .dataframe tbody tr th:only-of-type {\n",
       "        vertical-align: middle;\n",
       "    }\n",
       "\n",
       "    .dataframe tbody tr th {\n",
       "        vertical-align: top;\n",
       "    }\n",
       "\n",
       "    .dataframe thead th {\n",
       "        text-align: right;\n",
       "    }\n",
       "</style>\n",
       "<table border=\"1\" class=\"dataframe\">\n",
       "  <thead>\n",
       "    <tr style=\"text-align: right;\">\n",
       "      <th></th>\n",
       "      <th>maths</th>\n",
       "      <th>value</th>\n",
       "      <th>total_marks</th>\n",
       "    </tr>\n",
       "  </thead>\n",
       "  <tbody>\n",
       "    <tr>\n",
       "      <th>0</th>\n",
       "      <td>max</td>\n",
       "      <td>85</td>\n",
       "      <td>85</td>\n",
       "    </tr>\n",
       "    <tr>\n",
       "      <th>1</th>\n",
       "      <td>rey</td>\n",
       "      <td>87</td>\n",
       "      <td>87</td>\n",
       "    </tr>\n",
       "    <tr>\n",
       "      <th>2</th>\n",
       "      <td>monty</td>\n",
       "      <td>90</td>\n",
       "      <td>90</td>\n",
       "    </tr>\n",
       "  </tbody>\n",
       "</table>\n",
       "</div>"
      ],
      "text/plain": [
       "   maths  value  total_marks\n",
       "0    max     85           85\n",
       "1    rey     87           87\n",
       "2  monty     90           90"
      ]
     },
     "execution_count": 16,
     "metadata": {},
     "output_type": "execute_result"
    }
   ],
   "source": [
    "tm.head()"
   ]
  },
  {
   "cell_type": "markdown",
   "id": "5ba67241-64c6-420c-90b5-be5cc8949916",
   "metadata": {},
   "source": [
    "Q4. Given a Pandas DataFrame df with a column 'Text', write a Python function to create a new column\n",
    "'Word_Count' that contains the number of words in each row of the 'Text' column."
   ]
  },
  {
   "cell_type": "code",
   "execution_count": 17,
   "id": "677a31d0-1aa4-49b2-a587-a81aedaee332",
   "metadata": {},
   "outputs": [],
   "source": [
    "new={\"text\":[\"this is the words that count by the word count variable\"]}"
   ]
  },
  {
   "cell_type": "code",
   "execution_count": 19,
   "id": "26e26bd2-3687-457d-b812-95dc0996fb07",
   "metadata": {},
   "outputs": [],
   "source": [
    "n1=pd.DataFrame(new)"
   ]
  },
  {
   "cell_type": "code",
   "execution_count": 20,
   "id": "ad9fea08-6305-4e0f-ae71-c06ed8ff6746",
   "metadata": {},
   "outputs": [],
   "source": [
    "n1['word_count']=0"
   ]
  },
  {
   "cell_type": "code",
   "execution_count": 21,
   "id": "5350b616-f979-4722-b3fe-d9336c4ba79c",
   "metadata": {},
   "outputs": [
    {
     "data": {
      "text/html": [
       "<div>\n",
       "<style scoped>\n",
       "    .dataframe tbody tr th:only-of-type {\n",
       "        vertical-align: middle;\n",
       "    }\n",
       "\n",
       "    .dataframe tbody tr th {\n",
       "        vertical-align: top;\n",
       "    }\n",
       "\n",
       "    .dataframe thead th {\n",
       "        text-align: right;\n",
       "    }\n",
       "</style>\n",
       "<table border=\"1\" class=\"dataframe\">\n",
       "  <thead>\n",
       "    <tr style=\"text-align: right;\">\n",
       "      <th></th>\n",
       "      <th>text</th>\n",
       "      <th>word_count</th>\n",
       "    </tr>\n",
       "  </thead>\n",
       "  <tbody>\n",
       "    <tr>\n",
       "      <th>0</th>\n",
       "      <td>this is the words that count by the word count...</td>\n",
       "      <td>0</td>\n",
       "    </tr>\n",
       "  </tbody>\n",
       "</table>\n",
       "</div>"
      ],
      "text/plain": [
       "                                                text  word_count\n",
       "0  this is the words that count by the word count...           0"
      ]
     },
     "execution_count": 21,
     "metadata": {},
     "output_type": "execute_result"
    }
   ],
   "source": [
    "n1.head()"
   ]
  },
  {
   "cell_type": "code",
   "execution_count": 22,
   "id": "0907b117-e982-4905-919e-c2bf6192a5c5",
   "metadata": {},
   "outputs": [
    {
     "data": {
      "text/html": [
       "<div>\n",
       "<style scoped>\n",
       "    .dataframe tbody tr th:only-of-type {\n",
       "        vertical-align: middle;\n",
       "    }\n",
       "\n",
       "    .dataframe tbody tr th {\n",
       "        vertical-align: top;\n",
       "    }\n",
       "\n",
       "    .dataframe thead th {\n",
       "        text-align: right;\n",
       "    }\n",
       "</style>\n",
       "<table border=\"1\" class=\"dataframe\">\n",
       "  <thead>\n",
       "    <tr style=\"text-align: right;\">\n",
       "      <th></th>\n",
       "      <th>text</th>\n",
       "      <th>word_count</th>\n",
       "    </tr>\n",
       "  </thead>\n",
       "  <tbody>\n",
       "    <tr>\n",
       "      <th>0</th>\n",
       "      <td>this is the words that count by the word count...</td>\n",
       "      <td>0</td>\n",
       "    </tr>\n",
       "  </tbody>\n",
       "</table>\n",
       "</div>"
      ],
      "text/plain": [
       "                                                text  word_count\n",
       "0  this is the words that count by the word count...           0"
      ]
     },
     "execution_count": 22,
     "metadata": {},
     "output_type": "execute_result"
    }
   ],
   "source": [
    "n1.head()"
   ]
  },
  {
   "cell_type": "markdown",
   "id": "08c669f6-2078-497e-962c-9371b34a911f",
   "metadata": {},
   "source": [
    "Q5. How are DataFrame.size() and DataFrame.shape() different?"
   ]
  },
  {
   "cell_type": "markdown",
   "id": "190276f5-529b-4636-b04d-023086c9cc33",
   "metadata": {},
   "source": [
    "DataFrame.size() shows the int value of the text and their number of use in the data set.\n",
    "other hand DataFrame.shape() shows the number of column and row are use in the data set."
   ]
  },
  {
   "cell_type": "markdown",
   "id": "7c0c76f5-b596-4575-bcc4-407994eb58b8",
   "metadata": {},
   "source": [
    "Q6. Which function of pandas do we use to read an excel file?"
   ]
  },
  {
   "cell_type": "markdown",
   "id": "0094d4ff-a86e-4eaf-ac30-94bbdcb861be",
   "metadata": {},
   "source": [
    ".xlsx extention we use to read the excel data and their pd.read_excel(\"file_name\")"
   ]
  },
  {
   "cell_type": "markdown",
   "id": "e22a45f7-b14d-4aaa-8d2d-6aea30200bec",
   "metadata": {},
   "source": [
    "Q7. You have a Pandas DataFrame df that contains a column named 'Email' that contains email\n",
    "addresses in the format 'username@domain.com'. Write a Python function that creates a new column\n",
    "'Username' in df that contains only the username part of each email address."
   ]
  },
  {
   "cell_type": "code",
   "execution_count": 52,
   "id": "ddf0d63d-0af9-445b-85ed-a8b7c279dcc4",
   "metadata": {},
   "outputs": [],
   "source": [
    "data=(\"empir@gmail.com\")\n",
    "      \n",
    "    "
   ]
  },
  {
   "cell_type": "code",
   "execution_count": 53,
   "id": "bed7e9aa-0f98-450a-8432-8dcdc1439253",
   "metadata": {},
   "outputs": [
    {
     "data": {
      "text/plain": [
       "'empir@gmail.com'"
      ]
     },
     "execution_count": 53,
     "metadata": {},
     "output_type": "execute_result"
    }
   ],
   "source": [
    "data"
   ]
  },
  {
   "cell_type": "code",
   "execution_count": 55,
   "id": "68418263-dd2d-467c-8ca0-48287e1b08e8",
   "metadata": {},
   "outputs": [],
   "source": [
    "df1=data[0:5]"
   ]
  },
  {
   "cell_type": "code",
   "execution_count": 58,
   "id": "889c4568-d2d9-41b6-8b81-59bf88960bb6",
   "metadata": {},
   "outputs": [
    {
     "data": {
      "text/plain": [
       "'empir'"
      ]
     },
     "execution_count": 58,
     "metadata": {},
     "output_type": "execute_result"
    }
   ],
   "source": [
    "df1"
   ]
  },
  {
   "cell_type": "markdown",
   "id": "ce41caa4-6281-4b9e-9e87-cd7c40e54d90",
   "metadata": {},
   "source": [
    "Q8. You have a Pandas DataFrame df with columns 'A', 'B', and 'C'. Write a Python function that selects\n",
    "all rows where the value in column 'A' is greater than 5 and the value in column 'B' is less than 10. The\n",
    "function should return a new DataFrame that contains only the selected rows."
   ]
  },
  {
   "cell_type": "code",
   "execution_count": 26,
   "id": "877911b6-98ab-4172-90e8-f6a67abb6719",
   "metadata": {},
   "outputs": [],
   "source": [
    "num={\"A\":[5,4,8,2,7,8],\n",
    "     \"B\":[8,5,9,6,7,1],\n",
    "     \"C\":[5,8,7,8,9,2]}"
   ]
  },
  {
   "cell_type": "code",
   "execution_count": 27,
   "id": "2701d811-424b-41ed-9486-da6a8e642ab5",
   "metadata": {},
   "outputs": [
    {
     "data": {
      "text/plain": [
       "{'A': [5, 4, 8, 2, 7, 8], 'B': [8, 5, 9, 6, 7, 1], 'C': [5, 8, 7, 8, 9, 2]}"
      ]
     },
     "execution_count": 27,
     "metadata": {},
     "output_type": "execute_result"
    }
   ],
   "source": [
    "num"
   ]
  },
  {
   "cell_type": "code",
   "execution_count": 28,
   "id": "ce59aac0-adbc-4b61-8935-709d695a6c82",
   "metadata": {},
   "outputs": [],
   "source": [
    "n1=pd.DataFrame(num)"
   ]
  },
  {
   "cell_type": "code",
   "execution_count": 29,
   "id": "c4f7ba7d-704c-495f-a5fa-e50bb89911af",
   "metadata": {},
   "outputs": [
    {
     "data": {
      "text/plain": [
       "A    int64\n",
       "B    int64\n",
       "C    int64\n",
       "dtype: object"
      ]
     },
     "execution_count": 29,
     "metadata": {},
     "output_type": "execute_result"
    }
   ],
   "source": [
    "n1.dtypes\n"
   ]
  },
  {
   "cell_type": "code",
   "execution_count": 30,
   "id": "3f62e8db-819b-4dd5-a106-9518467101fe",
   "metadata": {},
   "outputs": [
    {
     "data": {
      "text/plain": [
       "Index(['A', 'B', 'C'], dtype='object')"
      ]
     },
     "execution_count": 30,
     "metadata": {},
     "output_type": "execute_result"
    }
   ],
   "source": [
    "n1.columns"
   ]
  },
  {
   "cell_type": "code",
   "execution_count": 31,
   "id": "12a0108a-bf79-406f-a68d-41b0c79c2cab",
   "metadata": {},
   "outputs": [],
   "source": [
    "N2=n1[['A','B','C']]>5"
   ]
  },
  {
   "cell_type": "code",
   "execution_count": 32,
   "id": "aa92bfa1-51f2-417d-bf2c-9e445f78551f",
   "metadata": {},
   "outputs": [
    {
     "data": {
      "text/html": [
       "<div>\n",
       "<style scoped>\n",
       "    .dataframe tbody tr th:only-of-type {\n",
       "        vertical-align: middle;\n",
       "    }\n",
       "\n",
       "    .dataframe tbody tr th {\n",
       "        vertical-align: top;\n",
       "    }\n",
       "\n",
       "    .dataframe thead th {\n",
       "        text-align: right;\n",
       "    }\n",
       "</style>\n",
       "<table border=\"1\" class=\"dataframe\">\n",
       "  <thead>\n",
       "    <tr style=\"text-align: right;\">\n",
       "      <th></th>\n",
       "      <th>A</th>\n",
       "      <th>B</th>\n",
       "      <th>C</th>\n",
       "    </tr>\n",
       "  </thead>\n",
       "  <tbody>\n",
       "    <tr>\n",
       "      <th>0</th>\n",
       "      <td>False</td>\n",
       "      <td>True</td>\n",
       "      <td>False</td>\n",
       "    </tr>\n",
       "    <tr>\n",
       "      <th>1</th>\n",
       "      <td>False</td>\n",
       "      <td>False</td>\n",
       "      <td>True</td>\n",
       "    </tr>\n",
       "    <tr>\n",
       "      <th>2</th>\n",
       "      <td>True</td>\n",
       "      <td>True</td>\n",
       "      <td>True</td>\n",
       "    </tr>\n",
       "    <tr>\n",
       "      <th>3</th>\n",
       "      <td>False</td>\n",
       "      <td>True</td>\n",
       "      <td>True</td>\n",
       "    </tr>\n",
       "    <tr>\n",
       "      <th>4</th>\n",
       "      <td>True</td>\n",
       "      <td>True</td>\n",
       "      <td>True</td>\n",
       "    </tr>\n",
       "    <tr>\n",
       "      <th>5</th>\n",
       "      <td>True</td>\n",
       "      <td>False</td>\n",
       "      <td>False</td>\n",
       "    </tr>\n",
       "  </tbody>\n",
       "</table>\n",
       "</div>"
      ],
      "text/plain": [
       "       A      B      C\n",
       "0  False   True  False\n",
       "1  False  False   True\n",
       "2   True   True   True\n",
       "3  False   True   True\n",
       "4   True   True   True\n",
       "5   True  False  False"
      ]
     },
     "execution_count": 32,
     "metadata": {},
     "output_type": "execute_result"
    }
   ],
   "source": [
    "N2   #ONLY CONTAIN GREATER THAN 5 WHICH TRUE, FALSE MEANS WHICH IS NOT GREATER THAN 5"
   ]
  }
 ],
 "metadata": {
  "kernelspec": {
   "display_name": "Python 3 (ipykernel)",
   "language": "python",
   "name": "python3"
  },
  "language_info": {
   "codemirror_mode": {
    "name": "ipython",
    "version": 3
   },
   "file_extension": ".py",
   "mimetype": "text/x-python",
   "name": "python",
   "nbconvert_exporter": "python",
   "pygments_lexer": "ipython3",
   "version": "3.10.8"
  }
 },
 "nbformat": 4,
 "nbformat_minor": 5
}
